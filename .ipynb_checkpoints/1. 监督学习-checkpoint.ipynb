{
 "cells": [
  {
   "cell_type": "markdown",
   "id": "13cf364d",
   "metadata": {},
   "source": [
    "# 1.监督学习\n",
    "监督学习是指在有标记的\n",
    "样本（labeled samples）上建立机器学习的模型"
   ]
  },
  {
   "cell_type": "markdown",
   "id": "c11bf3b2",
   "metadata": {},
   "source": [
    "## 1.1 数据预处理"
   ]
  },
  {
   "cell_type": "code",
   "execution_count": 3,
   "id": "09fc421c",
   "metadata": {},
   "outputs": [],
   "source": [
    "import numpy as np\n",
    "# !pip install -i  https://mirrors.aliyun.com/pypi/simple/ numpy\n",
    "from sklearn import preprocessing"
   ]
  },
  {
   "cell_type": "markdown",
   "id": "f204c2ce",
   "metadata": {},
   "source": [
    "### array:数组"
   ]
  },
  {
   "cell_type": "code",
   "execution_count": 23,
   "id": "44fdad7b",
   "metadata": {},
   "outputs": [
    {
     "data": {
      "text/plain": [
       "(array([[ 3. , -1.5,  2. , -5.4],\n",
       "        [ 0. ,  4. , -0.3,  2.1],\n",
       "        [ 1. ,  3.3, -1.9, -4.3]]),\n",
       " (3, 4),\n",
       " numpy.ndarray)"
      ]
     },
     "execution_count": 23,
     "metadata": {},
     "output_type": "execute_result"
    }
   ],
   "source": [
    "data = np.array([[3, -1.5, 2, -5.4], [0, 4, -0.3, 2.1], [1, 3.3,\n",
    "-1.9, -4.3]])\n",
    "data,data.shape, type(data)"
   ]
  },
  {
   "cell_type": "markdown",
   "id": "6a9f79eb",
   "metadata": {},
   "source": [
    "### 1.1.1 均值移除\n",
    "每个特征的平均值移除，以保证特征均值为0（即标准化处理）。\n",
    "\n",
    "这样做可以消除特征彼此间的偏差（bias）\n",
    "\n",
    "(X-X_mean)/X_std 计算时对每个属性/每列分别进行。"
   ]
  },
  {
   "cell_type": "code",
   "execution_count": 13,
   "id": "9635b3a8",
   "metadata": {},
   "outputs": [
    {
     "name": "stdout",
     "output_type": "stream",
     "text": [
      "Mean = [ 5.55111512e-17 -1.11022302e-16 -7.40148683e-17 -7.40148683e-17]\n",
      "Std deviation = [1. 1. 1. 1.]\n"
     ]
    },
    {
     "data": {
      "text/plain": [
       "array([[ 1.33630621, -1.40451644,  1.29110641, -0.86687558],\n",
       "       [-1.06904497,  0.84543708, -0.14577008,  1.40111286],\n",
       "       [-0.26726124,  0.55907936, -1.14533633, -0.53423728]])"
      ]
     },
     "execution_count": 13,
     "metadata": {},
     "output_type": "execute_result"
    }
   ],
   "source": [
    "data_standardized = preprocessing.scale(data)\n",
    "print(\"Mean =\", data_standardized.mean(axis=0))\n",
    "print(\"Std deviation =\", data_standardized.std(axis=0))\n",
    "data_standardized"
   ]
  },
  {
   "cell_type": "markdown",
   "id": "cfe4d7fb",
   "metadata": {},
   "source": [
    "### 1.1.2 范围缩放\n",
    "数据点中每个特征的数值范围可能变化很大，因此，有时将特征的数值范围缩放到合理的大\n",
    "小是非常重要的"
   ]
  },
  {
   "cell_type": "code",
   "execution_count": 22,
   "id": "0fd4cdec",
   "metadata": {},
   "outputs": [
    {
     "name": "stdout",
     "output_type": "stream",
     "text": [
      "Min max scaled data = [[1.         0.         1.         0.        ]\n",
      " [0.         1.         0.41025641 1.        ]\n",
      " [0.33333333 0.87272727 0.         0.14666667]]\n"
     ]
    }
   ],
   "source": [
    "data_scaler = preprocessing.MinMaxScaler(feature_range=(0, 1))\n",
    "data_scaled = data_scaler.fit_transform(data)\n",
    "print(\"Min max scaled data =\", data_scaled)"
   ]
  },
  {
   "cell_type": "markdown",
   "id": "475ef23d",
   "metadata": {},
   "source": [
    "### 1.1.3 归一化\n",
    "数据归一化用于需要对特征向量的值进行调整时，以保证每个特征向量的值都缩放到相同的\n",
    "数值范围。\n",
    "\n",
    "机器学习中最常用的归一化形式就是将特征向量调整为L1范数，使特征向量的数值之\n",
    "和为1\n",
    "\n",
    "这个方法经常用于确保数据点没有因为特征的基本性质而产生较大差异，即确保数据处于同\n",
    "一数量级，提高不同特征数据的可比性。"
   ]
  },
  {
   "cell_type": "code",
   "execution_count": 24,
   "id": "dacd296f",
   "metadata": {},
   "outputs": [
    {
     "name": "stdout",
     "output_type": "stream",
     "text": [
      "\n",
      "L1 normalized data = [[ 0.25210084 -0.12605042  0.16806723 -0.45378151]\n",
      " [ 0.          0.625      -0.046875    0.328125  ]\n",
      " [ 0.0952381   0.31428571 -0.18095238 -0.40952381]]\n"
     ]
    }
   ],
   "source": [
    "data_normalized = preprocessing.normalize(data, norm='l1')\n",
    "print(\"\\nL1 normalized data =\", data_normalized)"
   ]
  },
  {
   "cell_type": "markdown",
   "id": "f42e3b4c",
   "metadata": {},
   "source": [
    "### 1.1.4 二值化\n",
    "二值化用于将数值特征向量转换为布尔类型向量"
   ]
  },
  {
   "cell_type": "code",
   "execution_count": 25,
   "id": "cf869b8e",
   "metadata": {},
   "outputs": [
    {
     "name": "stdout",
     "output_type": "stream",
     "text": [
      "\n",
      "Binarized data = [[1. 0. 1. 0.]\n",
      " [0. 1. 0. 1.]\n",
      " [0. 1. 0. 0.]]\n"
     ]
    }
   ],
   "source": [
    "data_binarized = preprocessing.Binarizer(threshold=1.4).transform(data)\n",
    "print(\"\\nBinarized data =\", data_binarized)"
   ]
  },
  {
   "cell_type": "markdown",
   "id": "651c2386",
   "metadata": {},
   "source": [
    "### 1.1.5 独热编码\n",
    "需要处理的数值都是稀疏地、散乱地分布在空间中，然而，我们并不需要存储这些大\n",
    "数值，这时就需要使用独热编码（One-Hot Encoding）\n",
    "\n",
    "可以把独热编码看作是一种收紧（tighten）特征向量的工具。\n",
    "\n",
    "它把特征向量的每个特征与特征的非重复总数相对应，通过one-of-k的形式对\n",
    "每个值进行编码"
   ]
  },
  {
   "cell_type": "code",
   "execution_count": 26,
   "id": "6f80d349",
   "metadata": {},
   "outputs": [
    {
     "name": "stdout",
     "output_type": "stream",
     "text": [
      "\n",
      "Encoded vector = [[0. 0. 1. 0. 1. 0. 0. 0. 1. 1. 0.]]\n"
     ]
    }
   ],
   "source": [
    "encoder = preprocessing.OneHotEncoder()\n",
    "encoder.fit([[0, 2, 1, 12], [1, 3, 5, 3], [2, 3, 2, 12], [1, 2, 4, 3]])\n",
    "encoded_vector = encoder.transform([[2, 3, 5, 3]]).toarray()\n",
    "print(\"\\nEncoded vector =\", encoded_vector)"
   ]
  },
  {
   "cell_type": "code",
   "execution_count": null,
   "id": "90a3a26b",
   "metadata": {},
   "outputs": [],
   "source": []
  }
 ],
 "metadata": {
  "hide_input": false,
  "kernelspec": {
   "display_name": "Python [conda env:Pycore] *",
   "language": "python",
   "name": "conda-env-Pycore-py"
  },
  "language_info": {
   "codemirror_mode": {
    "name": "ipython",
    "version": 3
   },
   "file_extension": ".py",
   "mimetype": "text/x-python",
   "name": "python",
   "nbconvert_exporter": "python",
   "pygments_lexer": "ipython3",
   "version": "3.9.7"
  },
  "latex_envs": {
   "LaTeX_envs_menu_present": true,
   "autoclose": false,
   "autocomplete": true,
   "bibliofile": "biblio.bib",
   "cite_by": "apalike",
   "current_citInitial": 1,
   "eqLabelWithNumbers": true,
   "eqNumInitial": 1,
   "hotkeys": {
    "equation": "Ctrl-E",
    "itemize": "Ctrl-I"
   },
   "labels_anchors": false,
   "latex_user_defs": false,
   "report_style_numbering": false,
   "user_envs_cfg": false
  },
  "toc": {
   "base_numbering": 1,
   "nav_menu": {},
   "number_sections": false,
   "sideBar": true,
   "skip_h1_title": false,
   "title_cell": "Table of Contents",
   "title_sidebar": "Contents",
   "toc_cell": false,
   "toc_position": {
    "height": "calc(100% - 180px)",
    "left": "10px",
    "top": "150px",
    "width": "165px"
   },
   "toc_section_display": true,
   "toc_window_display": false
  }
 },
 "nbformat": 4,
 "nbformat_minor": 5
}
